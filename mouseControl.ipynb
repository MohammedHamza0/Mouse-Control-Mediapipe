{
 "cells": [
  {
   "cell_type": "code",
   "execution_count": 1,
   "metadata": {},
   "outputs": [],
   "source": [
    "import cv2\n",
    "import mediapipe as mp\n",
    "import pyautogui\n",
    "import math"
   ]
  },
  {
   "cell_type": "code",
   "execution_count": 5,
   "metadata": {},
   "outputs": [],
   "source": [
    "mp_hands = mp.solutions.hands\n",
    "hands = mp_hands.Hands(max_num_hands=1)\n",
    "mp_draw = mp.solutions.drawing_utils\n",
    "\n",
    "# get the width and height of the screen\n",
    "screen_wid, screen_hei = pyautogui.size()\n",
    "\n",
    "# Helper function to calculate the distance between two points\n",
    "def calculate_distance(x1, y1, x2, y2):\n",
    "    return math.sqrt((x2 - x1) ** 2 + (y2 - y1) ** 2)\n",
    "\n",
    "clicking = False \n",
    "\n",
    "cap = cv2.VideoCapture(0)\n",
    "\n",
    "while cap.isOpened():\n",
    "    ret, frame = cap.read()\n",
    "    if not ret:\n",
    "        break\n",
    "    else:\n",
    "        frame = cv2.resize(frame, (1100, 700))\n",
    "        frame = cv2.cvtColor(frame, cv2.COLOR_BGR2RGB)\n",
    "        results = hands.process(frame)\n",
    "        h, w, _ = frame.shape\n",
    "        if results.multi_hand_landmarks:\n",
    "            for hand_landmarks in results.multi_hand_landmarks:\n",
    "                index_finger_tip = hand_landmarks.landmark[mp_hands.HandLandmark.INDEX_FINGER_TIP]\n",
    "                thump_tip = hand_landmarks.landmark[mp_hands.HandLandmark.THUMB_TIP]\n",
    "                mp_draw.draw_landmarks(frame, hand_landmarks, mp_hands.HAND_CONNECTIONS)\n",
    "                \n",
    "                \n",
    "                finger_x = int(index_finger_tip.x * w)\n",
    "                finger_y = int(index_finger_tip.y * h)\n",
    "                \n",
    "                thump_x = int(thump_tip.x * w)\n",
    "                thump_y = int(thump_tip.y * h)\n",
    "                \n",
    "                screen_x = int(index_finger_tip.x * screen_wid) + 10\n",
    "                screen_y = int(index_finger_tip.y * screen_hei) + 10\n",
    "                \n",
    "                pyautogui.moveTo(screen_x, screen_y)\n",
    "                \n",
    "                \n",
    "                distance = calculate_distance(finger_x, finger_y, thump_x, thump_y)\n",
    "                \n",
    "                if distance < 30:\n",
    "                    if not clicking:\n",
    "                        pyautogui.click()\n",
    "                        clicking = True\n",
    "                    else:\n",
    "                        clicking = False\n",
    "                        \n",
    "                        \n",
    "                # Visualize the points for index finger and thumb\n",
    "                cv2.circle(frame, (finger_x, finger_y), 10, (0, 255, 0), cv2.FILLED)  # Index finger\n",
    "                cv2.circle(frame, (thump_x, thump_y), 10, (0, 0, 255), cv2.FILLED)  # Thumb\n",
    "                \n",
    "        cv2.imshow(\"Hand Gesture Mouse Control with Click\", frame)\n",
    "        if cv2.waitKey(1) == 27:\n",
    "            break\n",
    "        \n",
    "cap.release()\n",
    "cv2.destroyAllWindows()"
   ]
  },
  {
   "cell_type": "code",
   "execution_count": null,
   "metadata": {},
   "outputs": [],
   "source": []
  }
 ],
 "metadata": {
  "kernelspec": {
   "display_name": "yolo",
   "language": "python",
   "name": "python3"
  },
  "language_info": {
   "codemirror_mode": {
    "name": "ipython",
    "version": 3
   },
   "file_extension": ".py",
   "mimetype": "text/x-python",
   "name": "python",
   "nbconvert_exporter": "python",
   "pygments_lexer": "ipython3",
   "version": "3.9.19"
  }
 },
 "nbformat": 4,
 "nbformat_minor": 2
}
